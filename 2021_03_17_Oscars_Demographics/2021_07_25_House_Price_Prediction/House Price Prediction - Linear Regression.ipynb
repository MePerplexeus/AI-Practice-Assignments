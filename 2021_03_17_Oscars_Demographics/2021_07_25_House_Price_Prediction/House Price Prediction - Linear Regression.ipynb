{
 "cells": [
  {
   "cell_type": "markdown",
   "metadata": {},
   "source": [
    "# Project 1: House Price Prediction\n",
    "The goal for this project is to build a solution that is capable of predicting the house prices better than individuals.\n",
    "\n",
    "The following properties can be considered helpful for predicting price of house:\n",
    "1. Total square feet area\n",
    "2. Number of bedrooms, bathrooms stories, etc\n",
    "3. Furnishing status\n",
    "4. Basic amenities like:\n",
    "   - Air conditioning\n",
    "   - Hot water heating\n",
    "   - Parking\n",
    "   - Basement\n",
    "\n",
    "### Import Libraries"
   ]
  },
  {
   "cell_type": "code",
   "execution_count": 1,
   "metadata": {},
   "outputs": [
    {
     "name": "stdout",
     "output_type": "stream",
     "text": [
      "Libraries Imported...\n"
     ]
    }
   ],
   "source": [
    "#Housing.csv\n",
    "import pandas as pd\n",
    "import numpy as np\n",
    "import matplotlib.pyplot as plt \n",
    "\n",
    "from sklearn.preprocessing import OneHotEncoder\n",
    "from sklearn.preprocessing import LabelEncoder\n",
    "from sklearn.compose import ColumnTransformer\n",
    "from sklearn.linear_model import LinearRegression\n",
    "from sklearn.metrics import mean_squared_error\n",
    "print('Libraries Imported...')"
   ]
  },
  {
   "cell_type": "markdown",
   "metadata": {},
   "source": [
    "### Import & Read the CSV dataset"
   ]
  },
  {
   "cell_type": "code",
   "execution_count": 2,
   "metadata": {
    "scrolled": true
   },
   "outputs": [],
   "source": [
    "df=pd.read_csv('Housing.csv')"
   ]
  },
  {
   "cell_type": "markdown",
   "metadata": {},
   "source": [
    "### Data Preprocessing\n",
    "#### Checking the top 5 rows"
   ]
  },
  {
   "cell_type": "code",
   "execution_count": 3,
   "metadata": {
    "scrolled": false
   },
   "outputs": [
    {
     "data": {
      "text/html": [
       "<div>\n",
       "<style scoped>\n",
       "    .dataframe tbody tr th:only-of-type {\n",
       "        vertical-align: middle;\n",
       "    }\n",
       "\n",
       "    .dataframe tbody tr th {\n",
       "        vertical-align: top;\n",
       "    }\n",
       "\n",
       "    .dataframe thead th {\n",
       "        text-align: right;\n",
       "    }\n",
       "</style>\n",
       "<table border=\"1\" class=\"dataframe\">\n",
       "  <thead>\n",
       "    <tr style=\"text-align: right;\">\n",
       "      <th></th>\n",
       "      <th>price</th>\n",
       "      <th>area</th>\n",
       "      <th>bedrooms</th>\n",
       "      <th>bathrooms</th>\n",
       "      <th>stories</th>\n",
       "      <th>mainroad</th>\n",
       "      <th>guestroom</th>\n",
       "      <th>basement</th>\n",
       "      <th>hotwaterheating</th>\n",
       "      <th>airconditioning</th>\n",
       "      <th>parking</th>\n",
       "      <th>prefarea</th>\n",
       "      <th>furnishingstatus</th>\n",
       "    </tr>\n",
       "  </thead>\n",
       "  <tbody>\n",
       "    <tr>\n",
       "      <th>0</th>\n",
       "      <td>13300000</td>\n",
       "      <td>7420</td>\n",
       "      <td>4</td>\n",
       "      <td>2</td>\n",
       "      <td>3</td>\n",
       "      <td>yes</td>\n",
       "      <td>no</td>\n",
       "      <td>no</td>\n",
       "      <td>no</td>\n",
       "      <td>yes</td>\n",
       "      <td>2</td>\n",
       "      <td>yes</td>\n",
       "      <td>furnished</td>\n",
       "    </tr>\n",
       "    <tr>\n",
       "      <th>1</th>\n",
       "      <td>12250000</td>\n",
       "      <td>8960</td>\n",
       "      <td>4</td>\n",
       "      <td>4</td>\n",
       "      <td>4</td>\n",
       "      <td>yes</td>\n",
       "      <td>no</td>\n",
       "      <td>no</td>\n",
       "      <td>no</td>\n",
       "      <td>yes</td>\n",
       "      <td>3</td>\n",
       "      <td>no</td>\n",
       "      <td>furnished</td>\n",
       "    </tr>\n",
       "    <tr>\n",
       "      <th>2</th>\n",
       "      <td>12250000</td>\n",
       "      <td>9960</td>\n",
       "      <td>3</td>\n",
       "      <td>2</td>\n",
       "      <td>2</td>\n",
       "      <td>yes</td>\n",
       "      <td>no</td>\n",
       "      <td>yes</td>\n",
       "      <td>no</td>\n",
       "      <td>no</td>\n",
       "      <td>2</td>\n",
       "      <td>yes</td>\n",
       "      <td>semi-furnished</td>\n",
       "    </tr>\n",
       "    <tr>\n",
       "      <th>3</th>\n",
       "      <td>12215000</td>\n",
       "      <td>7500</td>\n",
       "      <td>4</td>\n",
       "      <td>2</td>\n",
       "      <td>2</td>\n",
       "      <td>yes</td>\n",
       "      <td>no</td>\n",
       "      <td>yes</td>\n",
       "      <td>no</td>\n",
       "      <td>yes</td>\n",
       "      <td>3</td>\n",
       "      <td>yes</td>\n",
       "      <td>furnished</td>\n",
       "    </tr>\n",
       "    <tr>\n",
       "      <th>4</th>\n",
       "      <td>11410000</td>\n",
       "      <td>7420</td>\n",
       "      <td>4</td>\n",
       "      <td>1</td>\n",
       "      <td>2</td>\n",
       "      <td>yes</td>\n",
       "      <td>yes</td>\n",
       "      <td>yes</td>\n",
       "      <td>no</td>\n",
       "      <td>yes</td>\n",
       "      <td>2</td>\n",
       "      <td>no</td>\n",
       "      <td>furnished</td>\n",
       "    </tr>\n",
       "  </tbody>\n",
       "</table>\n",
       "</div>"
      ],
      "text/plain": [
       "      price  area  bedrooms  bathrooms  stories mainroad guestroom basement  \\\n",
       "0  13300000  7420         4          2        3      yes        no       no   \n",
       "1  12250000  8960         4          4        4      yes        no       no   \n",
       "2  12250000  9960         3          2        2      yes        no      yes   \n",
       "3  12215000  7500         4          2        2      yes        no      yes   \n",
       "4  11410000  7420         4          1        2      yes       yes      yes   \n",
       "\n",
       "  hotwaterheating airconditioning  parking prefarea furnishingstatus  \n",
       "0              no             yes        2      yes        furnished  \n",
       "1              no             yes        3       no        furnished  \n",
       "2              no              no        2      yes   semi-furnished  \n",
       "3              no             yes        3      yes        furnished  \n",
       "4              no             yes        2       no        furnished  "
      ]
     },
     "execution_count": 3,
     "metadata": {},
     "output_type": "execute_result"
    }
   ],
   "source": [
    "df.head(5)"
   ]
  },
  {
   "cell_type": "markdown",
   "metadata": {},
   "source": [
    "#### Checking for null values"
   ]
  },
  {
   "cell_type": "code",
   "execution_count": 4,
   "metadata": {},
   "outputs": [
    {
     "data": {
      "text/plain": [
       "price               False\n",
       "area                False\n",
       "bedrooms            False\n",
       "bathrooms           False\n",
       "stories             False\n",
       "mainroad            False\n",
       "guestroom           False\n",
       "basement            False\n",
       "hotwaterheating     False\n",
       "airconditioning     False\n",
       "parking             False\n",
       "prefarea            False\n",
       "furnishingstatus    False\n",
       "dtype: bool"
      ]
     },
     "execution_count": 4,
     "metadata": {},
     "output_type": "execute_result"
    }
   ],
   "source": [
    "df.isna().any()"
   ]
  },
  {
   "cell_type": "markdown",
   "metadata": {},
   "source": [
    "#### Double checking null values and datatypes"
   ]
  },
  {
   "cell_type": "code",
   "execution_count": 5,
   "metadata": {},
   "outputs": [
    {
     "name": "stdout",
     "output_type": "stream",
     "text": [
      "<class 'pandas.core.frame.DataFrame'>\n",
      "RangeIndex: 545 entries, 0 to 544\n",
      "Data columns (total 13 columns):\n",
      " #   Column            Non-Null Count  Dtype \n",
      "---  ------            --------------  ----- \n",
      " 0   price             545 non-null    int64 \n",
      " 1   area              545 non-null    int64 \n",
      " 2   bedrooms          545 non-null    int64 \n",
      " 3   bathrooms         545 non-null    int64 \n",
      " 4   stories           545 non-null    int64 \n",
      " 5   mainroad          545 non-null    object\n",
      " 6   guestroom         545 non-null    object\n",
      " 7   basement          545 non-null    object\n",
      " 8   hotwaterheating   545 non-null    object\n",
      " 9   airconditioning   545 non-null    object\n",
      " 10  parking           545 non-null    int64 \n",
      " 11  prefarea          545 non-null    object\n",
      " 12  furnishingstatus  545 non-null    object\n",
      "dtypes: int64(6), object(7)\n",
      "memory usage: 55.5+ KB\n"
     ]
    }
   ],
   "source": [
    "df.info()"
   ]
  },
  {
   "cell_type": "markdown",
   "metadata": {},
   "source": [
    "`Yes, The dataset contains objects to be converted to int64 type which shall be done via encoding.`\n",
    "#### Encode Objects to Int\n",
    "##### - Make A Label Encoding Function to Simplify the Task"
   ]
  },
  {
   "cell_type": "code",
   "execution_count": 6,
   "metadata": {},
   "outputs": [],
   "source": [
    "def label_encode(df, colName):\n",
    "    if (type(colName) == str):\n",
    "        # converting type of columns to 'category'\n",
    "        df[colName] = df[colName].astype('category')\n",
    "        # Assigning numerical values and storing in another column\n",
    "        df[colName] = df[colName].cat.codes\n",
    "    elif (type(colName) == list):\n",
    "        for col in colName:\n",
    "            # converting type of columns to 'category'\n",
    "            df[col] = df[col].astype('category')\n",
    "            # Assigning numerical values and storing in another column\n",
    "            df[col] = df[col].cat.codes"
   ]
  },
  {
   "cell_type": "markdown",
   "metadata": {},
   "source": [
    "##### - Objects to Encode\n",
    "- mainroad\n",
    "- guestroom\n",
    "- basement\n",
    "- hotwaterheating\n",
    "- airconditioning\n",
    "- prefarea\n",
    "- furnishingstatus"
   ]
  },
  {
   "cell_type": "code",
   "execution_count": 7,
   "metadata": {},
   "outputs": [
    {
     "data": {
      "text/html": [
       "<div>\n",
       "<style scoped>\n",
       "    .dataframe tbody tr th:only-of-type {\n",
       "        vertical-align: middle;\n",
       "    }\n",
       "\n",
       "    .dataframe tbody tr th {\n",
       "        vertical-align: top;\n",
       "    }\n",
       "\n",
       "    .dataframe thead th {\n",
       "        text-align: right;\n",
       "    }\n",
       "</style>\n",
       "<table border=\"1\" class=\"dataframe\">\n",
       "  <thead>\n",
       "    <tr style=\"text-align: right;\">\n",
       "      <th></th>\n",
       "      <th>price</th>\n",
       "      <th>area</th>\n",
       "      <th>bedrooms</th>\n",
       "      <th>bathrooms</th>\n",
       "      <th>stories</th>\n",
       "      <th>mainroad</th>\n",
       "      <th>guestroom</th>\n",
       "      <th>basement</th>\n",
       "      <th>hotwaterheating</th>\n",
       "      <th>airconditioning</th>\n",
       "      <th>parking</th>\n",
       "      <th>prefarea</th>\n",
       "      <th>furnishingstatus</th>\n",
       "    </tr>\n",
       "  </thead>\n",
       "  <tbody>\n",
       "    <tr>\n",
       "      <th>0</th>\n",
       "      <td>13300000</td>\n",
       "      <td>7420</td>\n",
       "      <td>4</td>\n",
       "      <td>2</td>\n",
       "      <td>3</td>\n",
       "      <td>1</td>\n",
       "      <td>0</td>\n",
       "      <td>0</td>\n",
       "      <td>0</td>\n",
       "      <td>1</td>\n",
       "      <td>2</td>\n",
       "      <td>1</td>\n",
       "      <td>0</td>\n",
       "    </tr>\n",
       "    <tr>\n",
       "      <th>1</th>\n",
       "      <td>12250000</td>\n",
       "      <td>8960</td>\n",
       "      <td>4</td>\n",
       "      <td>4</td>\n",
       "      <td>4</td>\n",
       "      <td>1</td>\n",
       "      <td>0</td>\n",
       "      <td>0</td>\n",
       "      <td>0</td>\n",
       "      <td>1</td>\n",
       "      <td>3</td>\n",
       "      <td>0</td>\n",
       "      <td>0</td>\n",
       "    </tr>\n",
       "    <tr>\n",
       "      <th>2</th>\n",
       "      <td>12250000</td>\n",
       "      <td>9960</td>\n",
       "      <td>3</td>\n",
       "      <td>2</td>\n",
       "      <td>2</td>\n",
       "      <td>1</td>\n",
       "      <td>0</td>\n",
       "      <td>1</td>\n",
       "      <td>0</td>\n",
       "      <td>0</td>\n",
       "      <td>2</td>\n",
       "      <td>1</td>\n",
       "      <td>1</td>\n",
       "    </tr>\n",
       "    <tr>\n",
       "      <th>3</th>\n",
       "      <td>12215000</td>\n",
       "      <td>7500</td>\n",
       "      <td>4</td>\n",
       "      <td>2</td>\n",
       "      <td>2</td>\n",
       "      <td>1</td>\n",
       "      <td>0</td>\n",
       "      <td>1</td>\n",
       "      <td>0</td>\n",
       "      <td>1</td>\n",
       "      <td>3</td>\n",
       "      <td>1</td>\n",
       "      <td>0</td>\n",
       "    </tr>\n",
       "    <tr>\n",
       "      <th>4</th>\n",
       "      <td>11410000</td>\n",
       "      <td>7420</td>\n",
       "      <td>4</td>\n",
       "      <td>1</td>\n",
       "      <td>2</td>\n",
       "      <td>1</td>\n",
       "      <td>1</td>\n",
       "      <td>1</td>\n",
       "      <td>0</td>\n",
       "      <td>1</td>\n",
       "      <td>2</td>\n",
       "      <td>0</td>\n",
       "      <td>0</td>\n",
       "    </tr>\n",
       "  </tbody>\n",
       "</table>\n",
       "</div>"
      ],
      "text/plain": [
       "      price  area  bedrooms  bathrooms  stories  mainroad  guestroom  \\\n",
       "0  13300000  7420         4          2        3         1          0   \n",
       "1  12250000  8960         4          4        4         1          0   \n",
       "2  12250000  9960         3          2        2         1          0   \n",
       "3  12215000  7500         4          2        2         1          0   \n",
       "4  11410000  7420         4          1        2         1          1   \n",
       "\n",
       "   basement  hotwaterheating  airconditioning  parking  prefarea  \\\n",
       "0         0                0                1        2         1   \n",
       "1         0                0                1        3         0   \n",
       "2         1                0                0        2         1   \n",
       "3         1                0                1        3         1   \n",
       "4         1                0                1        2         0   \n",
       "\n",
       "   furnishingstatus  \n",
       "0                 0  \n",
       "1                 0  \n",
       "2                 1  \n",
       "3                 0  \n",
       "4                 0  "
      ]
     },
     "execution_count": 7,
     "metadata": {},
     "output_type": "execute_result"
    }
   ],
   "source": [
    "objList = ['mainroad','guestroom','basement','hotwaterheating','airconditioning','prefarea','furnishingstatus']\n",
    "label_encode(df, objList)\n",
    "df.head(5)"
   ]
  },
  {
   "cell_type": "markdown",
   "metadata": {},
   "source": [
    "`Now that Label Encoding has been done, Let's start making Test-Train Split of the Dataset.`\n",
    "\n",
    "---\n",
    "### Train Test Split\n",
    "#### Removing nan and infinite values"
   ]
  },
  {
   "cell_type": "code",
   "execution_count": 8,
   "metadata": {},
   "outputs": [],
   "source": [
    "df.replace([np.inf, -np.inf], np.nan, inplace=True)\n",
    "df.dropna(inplace=True)"
   ]
  },
  {
   "cell_type": "markdown",
   "metadata": {},
   "source": [
    "#### Creating train test split"
   ]
  },
  {
   "cell_type": "code",
   "execution_count": 9,
   "metadata": {},
   "outputs": [
    {
     "data": {
      "application/javascript": [
       "\n",
       "        if (window._pyforest_update_imports_cell) { window._pyforest_update_imports_cell('from sklearn.model_selection import train_test_split'); }\n",
       "    "
      ],
      "text/plain": [
       "<IPython.core.display.Javascript object>"
      ]
     },
     "metadata": {},
     "output_type": "display_data"
    },
    {
     "name": "stdout",
     "output_type": "stream",
     "text": [
      "X [Train(446, 12) + Test(99, 12) = Total(545, 12)]\n",
      "Y [Train(446,) + Test(99,) = Total(545,)]\n"
     ]
    }
   ],
   "source": [
    "X = df.drop(columns=['price'])\n",
    "y = df.price\n",
    "\n",
    "X_train, X_test, Y_train, Y_test = train_test_split( X, y, test_size=0.18, random_state=42)\n",
    "\n",
    "\n",
    "\n",
    "print(\"X [Train\" + str(X_train.shape) + \" + Test\" + str(X_test.shape) + \" = Total\" + str(X.shape) + \"]\")\n",
    "print(\"Y [Train\" + str(Y_train.shape) + \" + Test\" + str(Y_test.shape) + \" = Total\" + str(y.shape) + \"]\")"
   ]
  },
  {
   "cell_type": "markdown",
   "metadata": {},
   "source": [
    "### Linear Regression Model\n",
    "#### Initiate Linear Regression Model & Fit x, y"
   ]
  },
  {
   "cell_type": "code",
   "execution_count": 10,
   "metadata": {},
   "outputs": [
    {
     "data": {
      "text/plain": [
       "LinearRegression()"
      ]
     },
     "execution_count": 10,
     "metadata": {},
     "output_type": "execute_result"
    }
   ],
   "source": [
    "lr_model = LinearRegression()\n",
    "lr_model.fit(X_train,Y_train)"
   ]
  },
  {
   "cell_type": "markdown",
   "metadata": {},
   "source": [
    "#### Get results for Linear Regression Model"
   ]
  },
  {
   "cell_type": "code",
   "execution_count": 11,
   "metadata": {},
   "outputs": [
    {
     "name": "stdout",
     "output_type": "stream",
     "text": [
      "Cofficient of Determation: 0.6788631228214417\n",
      "Intercet: 244265.02430868987\n",
      "Slope: [ 2.32452758e+02  9.38417670e+04  1.07778355e+06  4.17285774e+05\n",
      "  3.97331741e+05  2.72862489e+05  3.93279631e+05  6.67223447e+05\n",
      "  7.92585080e+05  2.47322510e+05  5.81098960e+05 -2.07885624e+05]\n"
     ]
    }
   ],
   "source": [
    "print(\"Cofficient of Determation:\", lr_model.score(X_train,Y_train))\n",
    "print(\"Intercet:\", lr_model.intercept_)\n",
    "print(\"Slope:\", lr_model.coef_)"
   ]
  },
  {
   "cell_type": "markdown",
   "metadata": {},
   "source": [
    "#### Predict using Linear Regression Model"
   ]
  },
  {
   "cell_type": "code",
   "execution_count": 12,
   "metadata": {
    "scrolled": true
   },
   "outputs": [
    {
     "name": "stdout",
     "output_type": "stream",
     "text": [
      "5206072.907542578 4060000\n",
      "7215173.4574504765 6650000\n",
      "3055573.142575878 3710000\n",
      "4582440.41096755 6440000\n",
      "3338704.3130241893 2800000\n",
      "3564502.6762551526 4900000\n",
      "5685918.986984403 5250000\n",
      "6414282.826313051 4543000\n",
      "2784578.569353882 2450000\n",
      "2648482.0970924445 3353000\n",
      "9574345.681570299 10150000\n",
      "2823047.526239026 2660000\n",
      "3168555.974461651 3360000\n",
      "3344142.981841047 3360000\n",
      "3735822.9982472025 2275000\n",
      "5294607.279618387 2660000\n",
      "2998655.2912091278 2660000\n",
      "4854330.054266481 7350000\n",
      "4420156.692348064 2940000\n",
      "3511180.547681244 2870000\n",
      "5794874.350874289 6720000\n",
      "5836621.9993926855 5425000\n",
      "2756798.490292582 1890000\n",
      "4797589.987683792 5250000\n",
      "5263288.179733279 4193000\n",
      "7489628.171702668 12250000\n",
      "3292999.518637613 3080000\n",
      "5276761.111369344 5110000\n",
      "8165462.258800331 9800000\n",
      "3438993.672935876 2520000\n",
      "6402149.796138979 6790000\n",
      "3392281.0324778035 3500000\n",
      "6790710.607107359 6650000\n",
      "4165266.5350710275 2940000\n",
      "3623509.603915477 3325000\n",
      "5814565.368982261 4200000\n",
      "4868354.194273523 4900000\n",
      "4438612.166296779 3290000\n",
      "3206609.079656942 3500000\n",
      "4654948.321119577 2380000\n",
      "4559923.794209755 5495000\n",
      "3544966.967489189 3675000\n",
      "7196577.236833931 6650000\n",
      "4059101.2588410275 4907000\n",
      "3685520.115961359 3150000\n",
      "4316470.445730108 4480000\n",
      "6727248.268870091 6580000\n",
      "4047336.6152570266 5740000\n",
      "3779823.0769602954 3003000\n",
      "3493861.301095579 1820000\n",
      "7356875.481691801 8400000\n",
      "2853259.1601528963 2450000\n",
      "4377830.062454285 4270000\n",
      "4462161.92222363 4007500\n",
      "3752955.3552488796 3234000\n",
      "2697297.1762108766 1750000\n",
      "7562533.4136702055 9800000\n",
      "2977592.537316853 2100000\n",
      "4220753.597094329 4340000\n",
      "2791898.856706312 3045000\n",
      "4821371.972988134 3850000\n",
      "3596444.3667887924 3500000\n",
      "5148012.369501403 4753000\n",
      "4247408.766569901 3080000\n",
      "4741396.679415328 4550000\n",
      "4663482.378174205 6510000\n",
      "7162557.292268998 6685000\n",
      "3510343.8232715875 5110000\n",
      "6042689.928149142 4550000\n",
      "6277643.290216522 6650000\n",
      "4737026.679942018 3640000\n",
      "5104375.8162731575 5600000\n",
      "4524275.299809581 3780000\n",
      "7951015.080510113 6615000\n",
      "3572389.168310578 3220000\n",
      "5456689.056333859 6650000\n",
      "3966040.0725402515 4690000\n",
      "4609408.069453907 4830000\n",
      "4852815.527951178 6860000\n",
      "4210772.058745561 2233000\n",
      "7771116.85764053 7035000\n",
      "4070643.8135083206 4165000\n",
      "6516351.21056752 6195000\n",
      "5361830.178472985 6510000\n",
      "2814875.60692208 1890000\n",
      "6874156.08723911 8190000\n",
      "2653287.86604442 2660000\n",
      "3676876.0665409835 4193000\n",
      "8017516.780809757 13300000\n",
      "8099727.545356346 9681000\n",
      "3254045.4704712527 4340000\n",
      "5995485.801153301 8645000\n",
      "3591217.154962423 3703000\n",
      "3815508.7849925556 5145000\n",
      "7667817.484269588 6440000\n",
      "4854841.705586042 5950000\n",
      "5183602.019083511 5810000\n",
      "6472872.093308798 5740000\n",
      "4943903.330237404 6230000\n"
     ]
    }
   ],
   "source": [
    "lr_Y_pred = lr_model.predict(X_test)\n",
    "for i in range(len(Y_test)):\n",
    "    print(lr_Y_pred[i], Y_test.to_numpy()[i])"
   ]
  },
  {
   "cell_type": "code",
   "execution_count": 13,
   "metadata": {},
   "outputs": [
    {
     "data": {
      "text/html": [
       "<div>\n",
       "<style scoped>\n",
       "    .dataframe tbody tr th:only-of-type {\n",
       "        vertical-align: middle;\n",
       "    }\n",
       "\n",
       "    .dataframe tbody tr th {\n",
       "        vertical-align: top;\n",
       "    }\n",
       "\n",
       "    .dataframe thead th {\n",
       "        text-align: right;\n",
       "    }\n",
       "</style>\n",
       "<table border=\"1\" class=\"dataframe\">\n",
       "  <thead>\n",
       "    <tr style=\"text-align: right;\">\n",
       "      <th></th>\n",
       "      <th>Y_test</th>\n",
       "      <th>lr_Y_pred</th>\n",
       "      <th>Accuracy</th>\n",
       "    </tr>\n",
       "  </thead>\n",
       "  <tbody>\n",
       "    <tr>\n",
       "      <th>316</th>\n",
       "      <td>4060000</td>\n",
       "      <td>5206072</td>\n",
       "      <td>-0.28</td>\n",
       "    </tr>\n",
       "    <tr>\n",
       "      <th>77</th>\n",
       "      <td>6650000</td>\n",
       "      <td>7215173</td>\n",
       "      <td>-0.08</td>\n",
       "    </tr>\n",
       "    <tr>\n",
       "      <th>360</th>\n",
       "      <td>3710000</td>\n",
       "      <td>3055573</td>\n",
       "      <td>0.18</td>\n",
       "    </tr>\n",
       "    <tr>\n",
       "      <th>90</th>\n",
       "      <td>6440000</td>\n",
       "      <td>4582440</td>\n",
       "      <td>0.29</td>\n",
       "    </tr>\n",
       "    <tr>\n",
       "      <th>493</th>\n",
       "      <td>2800000</td>\n",
       "      <td>3338704</td>\n",
       "      <td>-0.19</td>\n",
       "    </tr>\n",
       "    <tr>\n",
       "      <th>...</th>\n",
       "      <td>...</td>\n",
       "      <td>...</td>\n",
       "      <td>...</td>\n",
       "    </tr>\n",
       "    <tr>\n",
       "      <th>89</th>\n",
       "      <td>6440000</td>\n",
       "      <td>7667817</td>\n",
       "      <td>-0.19</td>\n",
       "    </tr>\n",
       "    <tr>\n",
       "      <th>117</th>\n",
       "      <td>5950000</td>\n",
       "      <td>4854841</td>\n",
       "      <td>0.18</td>\n",
       "    </tr>\n",
       "    <tr>\n",
       "      <th>131</th>\n",
       "      <td>5810000</td>\n",
       "      <td>5183602</td>\n",
       "      <td>0.11</td>\n",
       "    </tr>\n",
       "    <tr>\n",
       "      <th>140</th>\n",
       "      <td>5740000</td>\n",
       "      <td>6472872</td>\n",
       "      <td>-0.13</td>\n",
       "    </tr>\n",
       "    <tr>\n",
       "      <th>101</th>\n",
       "      <td>6230000</td>\n",
       "      <td>4943903</td>\n",
       "      <td>0.21</td>\n",
       "    </tr>\n",
       "  </tbody>\n",
       "</table>\n",
       "<p>99 rows × 3 columns</p>\n",
       "</div>"
      ],
      "text/plain": [
       "      Y_test  lr_Y_pred  Accuracy\n",
       "316  4060000    5206072     -0.28\n",
       "77   6650000    7215173     -0.08\n",
       "360  3710000    3055573      0.18\n",
       "90   6440000    4582440      0.29\n",
       "493  2800000    3338704     -0.19\n",
       "..       ...        ...       ...\n",
       "89   6440000    7667817     -0.19\n",
       "117  5950000    4854841      0.18\n",
       "131  5810000    5183602      0.11\n",
       "140  5740000    6472872     -0.13\n",
       "101  6230000    4943903      0.21\n",
       "\n",
       "[99 rows x 3 columns]"
      ]
     },
     "execution_count": 13,
     "metadata": {},
     "output_type": "execute_result"
    }
   ],
   "source": [
    "lr_Y_pred_int = [int(lr_Y_pred) for lr_Y_pred in lr_Y_pred]\n",
    "lr_Y_pred_accuracy = []\n",
    "for i in range(len(lr_Y_pred)):\n",
    "    acc =  (lr_Y_pred_int[i] / Y_test.tolist()[i])\n",
    "    lr_Y_pred_accuracy.append(acc)\n",
    "lr_Y_pred_accuracy = [((round(num, 2)-1)*(-1)) for num in lr_Y_pred_accuracy]\n",
    "d = {'Y_test': Y_test, 'lr_Y_pred': lr_Y_pred_int, 'Accuracy':lr_Y_pred_accuracy}\n",
    "\n",
    "comp = pd.DataFrame(data=d)\n",
    "comp"
   ]
  },
  {
   "cell_type": "markdown",
   "metadata": {},
   "source": [
    "### Checking Score\n",
    "#### Few Helpful Functions"
   ]
  },
  {
   "cell_type": "code",
   "execution_count": 14,
   "metadata": {},
   "outputs": [],
   "source": [
    "# Evaluation Function\n",
    "def rmse(model, y_test, y_pred, X_train, y_train):\n",
    "    r_squared = model.score(X_test, y_test)\n",
    "    mse = mean_squared_error(y_test, y_pred)\n",
    "    rmse = np.sqrt(mse)\n",
    "    print('R-squared: ' + str(r_squared))\n",
    "    print('Mean Squared Error: '+ str(rmse))\n",
    "    \n",
    "# Create model line scatter plot\n",
    "def scatter_plot(y_test, y_pred, model_name):\n",
    "    plt.figure(figsize=(10,6))\n",
    "    sns.residplot(y_test, y_pred, lowess=True, color='#4682b4', line_kws={'lw': 2, 'color': 'r'})\n",
    "    plt.title(str('Price vs Residuals for \\n' + model_name), fontsize=16)\n",
    "    plt.xlabel('Price',fontsize=16)\n",
    "    plt.xticks(fontsize=13)\n",
    "    plt.yticks(fontsize=13)\n",
    "    plt.show()"
   ]
  },
  {
   "cell_type": "markdown",
   "metadata": {},
   "source": [
    "#### Importing Experimental Libraries"
   ]
  },
  {
   "cell_type": "code",
   "execution_count": 15,
   "metadata": {},
   "outputs": [],
   "source": [
    "# explicitly require this experimental feature\n",
    "from sklearn.experimental import enable_hist_gradient_boosting  # noqa\n",
    "# now you can import normally from ensemble\n",
    "from sklearn.ensemble import HistGradientBoostingRegressor"
   ]
  },
  {
   "cell_type": "markdown",
   "metadata": {},
   "source": [
    "#### Histogram-based Gradient Boosting Regression Tree"
   ]
  },
  {
   "cell_type": "code",
   "execution_count": 16,
   "metadata": {},
   "outputs": [
    {
     "name": "stdout",
     "output_type": "stream",
     "text": [
      "R-squared: 0.6367817645922444\n",
      "Mean Squared Error: 1283402.7715148986\n"
     ]
    },
    {
     "data": {
      "application/javascript": [
       "\n",
       "        if (window._pyforest_update_imports_cell) { window._pyforest_update_imports_cell('from sklearn.model_selection import train_test_split\\nimport seaborn as sns'); }\n",
       "    "
      ],
      "text/plain": [
       "<IPython.core.display.Javascript object>"
      ]
     },
     "metadata": {},
     "output_type": "display_data"
    },
    {
     "name": "stderr",
     "output_type": "stream",
     "text": [
      "/usr/lib/python3.9/site-packages/seaborn/_decorators.py:36: FutureWarning: Pass the following variables as keyword args: x, y. From version 0.12, the only valid positional argument will be `data`, and passing other arguments without an explicit keyword will result in an error or misinterpretation.\n",
      "  warnings.warn(\n"
     ]
    },
    {
     "data": {
      "image/png": "[encoded data removed]",
      "text/plain": [
       "<Figure size 720x432 with 1 Axes>"
      ]
     },
     "metadata": {
      "needs_background": "light"
     },
     "output_type": "display_data"
    }
   ],
   "source": [
    "hist = HistGradientBoostingRegressor()\n",
    "hist.fit(X_train, Y_train)\n",
    "y_pred = hist.predict(X_test)\n",
    "\n",
    "\n",
    "rmse(hist, Y_test, lr_Y_pred, X_train, Y_train)\n",
    "\n",
    "scatter_plot(Y_test, lr_Y_pred, 'Histogram-based Gradient Boosting Regression Tree')"
   ]
  },
  {
   "cell_type": "markdown",
   "metadata": {},
   "source": [
    "### Conclusion\n",
    "The results are not very good, so either more data is required or the data is to be optimized in a much better way (data formatting and such) or a different approach/model/technique is to be used or all of the above to improve the predective ability of our model."
   ]
  },
  {
   "cell_type": "markdown",
   "metadata": {},
   "source": [
    "---\n",
    "# <center>Q.E.D.</center>"
   ]
  }
 ],
 "metadata": {
  "kernelspec": {
   "display_name": "Python 3",
   "language": "python",
   "name": "python3"
  },
  "language_info": {
   "codemirror_mode": {
    "name": "ipython",
    "version": 3
   },
   "file_extension": ".py",
   "mimetype": "text/x-python",
   "name": "python",
   "nbconvert_exporter": "python",
   "pygments_lexer": "ipython3",
   "version": "3.9.6"
  }
 },
 "nbformat": 4,
 "nbformat_minor": 4
}
