{
 "cells": [
  {
   "cell_type": "markdown",
   "metadata": {},
   "source": [
    "# <center>Assignment 1</center>"
   ]
  },
  {
   "cell_type": "markdown",
   "metadata": {},
   "source": [
    "### Initial Setup\n",
    "---\n",
    "This sets up the code which reads the file and stores all the data each in its appropriate variable\n"
   ]
  },
  {
   "cell_type": "code",
   "execution_count": 1,
   "metadata": {},
   "outputs": [],
   "source": [
    "# === Variables =========================================\n",
    "code = ''\n",
    "title = ''\n",
    "fieldCount = 0\n",
    "f = []\n",
    "studentCount = 0\n",
    "students = []\n",
    "\n",
    "# === Functions =========================================\n",
    "def sortDATA(filename):\n",
    "    '''Gets & reads the .txt file provided in the input and sorts its data into its relevant variables'''\n",
    "    global code, title, fieldCount, f, studentCount, students\n",
    "    with open(filename, 'rt') as sub:\n",
    "        for line in sub.readlines():\n",
    "            line = line.replace('\\n','').replace(' ','').split('|')\n",
    "            for entry in line:\n",
    "                if entry == '':\n",
    "                    line.pop(line.index(entry))\n",
    "                try:\n",
    "                    line[line.index(entry)] = int(entry)\n",
    "                except:\n",
    "                    try:\n",
    "                        line[line.index(entry)] = float(entry)\n",
    "                    except:\n",
    "                        pass\n",
    "            if line[0] == 'Code':\n",
    "                code = line[1]\n",
    "            elif line[0] == 'Title':\n",
    "                title = line[1]\n",
    "            elif line[0] == 'FieldCount':\n",
    "                fieldCount = line[1]\n",
    "            elif line[0] == 'F':\n",
    "                for i in range(1,4):\n",
    "                    f.append(line[i])\n",
    "            elif line[0] == 'StudentCount':\n",
    "                studentCount = line[1]\n",
    "            elif line[0] == 'S':\n",
    "                line.pop(0)\n",
    "                stuDetails = []\n",
    "                marks = []\n",
    "                for entry in line:\n",
    "                    if type(entry) == float:\n",
    "                        marks.append(entry)\n",
    "                    else:\n",
    "                        stuDetails.append(entry)\n",
    "                stuDetails.append(marks)\n",
    "                students.append(tuple(stuDetails))\n",
    "        students = tuple(students)\n",
    "        \n",
    "def printAllDATA():\n",
    "    '''Prints all the sorted Data for the subject loaded through the sortDATA() funtion.'''\n",
    "    print(code)\n",
    "    print(title)\n",
    "    print(fieldCount)\n",
    "    print(f)\n",
    "    print(studentCount)\n",
    "    print(students)"
   ]
  },
  {
   "cell_type": "code",
   "execution_count": 2,
   "metadata": {},
   "outputs": [],
   "source": [
    "# Run the function\n",
    "sortDATA('subject.txt')"
   ]
  },
  {
   "cell_type": "markdown",
   "metadata": {},
   "source": [
    "### Assignment 1 (a)"
   ]
  },
  {
   "cell_type": "code",
   "execution_count": 3,
   "metadata": {},
   "outputs": [
    {
     "name": "stdout",
     "output_type": "stream",
     "text": [
      "(18447565, 'VANDERGRAFF', 'T', [74.0, 42.5, 57.0])\n",
      "(18907347, 'MARS', 'V', [80.5, 60.0, 72.0])\n",
      "(18981993, 'FENNEL', 'WG', [77.5, 55.0, 69.0])\n",
      "(18983070, 'ECHOLLS', 'L', [69.0, 40.0, 71.0])\n",
      "(18930300, 'KANE', 'DS', [65.0, 47.5, 80.0])\n",
      "(18915430, 'KANE', 'L', [0.0, 0.0, 34.0])\n",
      "(18917104, 'NAVARRO', 'EW', [58.0, 35.0, 66.5])\n",
      "(18928929, 'CASABLANCAS', 'D', [50.5, 57.5, 64.0])\n",
      "(18982917, 'CASABLANCAS', 'C', [88.5, 62.5, 87.5])\n",
      "(18971724, 'COOK', 'J', [61.0, 37.5, 63.5])\n",
      "(18982863, 'MANNING', 'M', [51.5, 52.5, 79.0])\n",
      "(18928875, 'GANT', 'C', [66.5, 32.5, 43.0])\n",
      "(18927829, 'HAMILTON', 'Y', [69.0, 35.0, 48.0])\n",
      "(18963759, 'TOOMBS', 'F', [83.0, 60.0, 74.0])\n",
      "(18917386, 'DAMATO', 'L', [56.5, 70.0, 73.0])\n",
      "(18961542, 'LAMB', 'D', [87.0, 42.5, 74.0])\n",
      "(18130217, 'WEIDMAN', 'C', [25.0, 57.5, 86.0])\n",
      "(18966580, 'CLEMMONS', 'V', [46.5, 32.5, 77.5])\n",
      "(18934516, 'VANLOWE', 'V', [71.0, 17.5, 74.5])\n",
      "(18933190, 'MCCORMACK', 'C', [71.5, 77.5, 70.5])\n",
      "(18930122, 'POMEROY', 'S', [57.0, 57.5, 78.0])\n",
      "(18940511, 'SINCLAIR', 'M', [75.5, 65.0, 60.5])\n",
      "(18927590, 'GOODMAN', 'W', [89.5, 70.0, 84.5])\n",
      "(18529509, 'MORAN', 'C', [51.0, 30.0, 77.5])\n",
      "(18965595, 'GRIFFITH', 'H', [76.0, 50.0, 49.0])\n",
      "(18933014, 'FITZPATRICK', 'M', [51.0, 32.5, 55.5])\n"
     ]
    }
   ],
   "source": [
    "for student in students:\n",
    "    print(student)### Assignment 1 (a)"
   ]
  },
  {
   "cell_type": "markdown",
   "metadata": {},
   "source": [
    "### Assignment 1 (b)"
   ]
  },
  {
   "cell_type": "code",
   "execution_count": 4,
   "metadata": {},
   "outputs": [],
   "source": [
    "with open('finalmarks.txt', 'wt') as fMark:\n",
    "    fMark.write('') # Makes sure the 'finalmarks.txt' file is empty on each run of the script (won't replicate data)\n",
    "    \n",
    "for student in students:\n",
    "    name = student[1]+\" \"+student[2]\n",
    "    finMark = round(student[3][0]*(f[0]/100)) + round(student[3][1]*(f[1]/100)) + round(student[3][2]*(f[2]/100))\n",
    "    with open('finalmarks.txt', 'at') as fMark:\n",
    "        fMark.write(name+\" \"+str(finMark)+'\\n')"
   ]
  },
  {
   "cell_type": "markdown",
   "metadata": {},
   "source": [
    "### Assignment 1 (c)"
   ]
  },
  {
   "cell_type": "code",
   "execution_count": 5,
   "metadata": {},
   "outputs": [
    {
     "name": "stdout",
     "output_type": "stream",
     "text": [
      "| Assignment 1 | 0.0  | 89.5 | 63.52 |\n",
      "| Assignment 2 | 0.0  | 77.5 | 46.92 |\n",
      "| Final        | 34.0 | 87.5 | 68.04 |\n"
     ]
    }
   ],
   "source": [
    "assignment1 = []\n",
    "assignment2 = []\n",
    "final = []\n",
    "\n",
    "def avg(num):\n",
    "    sumOfNumbers = 0\n",
    "    for t in num:\n",
    "        sumOfNumbers = sumOfNumbers + t\n",
    "\n",
    "    avg = sumOfNumbers / len(num)\n",
    "    return round(avg, 2)\n",
    "\n",
    "for student in students:\n",
    "    assignment1.append(student[3][0])\n",
    "    assignment2.append(student[3][1])\n",
    "    final.append(student[3][2])\n",
    "    \n",
    "print('| Assignment 1 |', str(min(assignment1)), \" |\", str(max(assignment1)), \"|\", str(avg(assignment1)), \"|\")\n",
    "print('| Assignment 2 |', str(min(assignment2)), \" |\", str(max(assignment2)), \"|\", str(avg(assignment2)), \"|\")\n",
    "print('| Final        |', str(min(final)), \"|\", str(max(final)), \"|\", str(avg(final)), \"|\")"
   ]
  },
  {
   "cell_type": "markdown",
   "metadata": {},
   "source": [
    "---\n",
    "# <center>Q.E.D.</center>"
   ]
  }
 ],
 "metadata": {
  "kernelspec": {
   "display_name": "Python 3",
   "language": "python",
   "name": "python3"
  },
  "language_info": {
   "codemirror_mode": {
    "name": "ipython",
    "version": 3
   },
   "file_extension": ".py",
   "mimetype": "text/x-python",
   "name": "python",
   "nbconvert_exporter": "python",
   "pygments_lexer": "ipython3",
   "version": "3.8.3"
  }
 },
 "nbformat": 4,
 "nbformat_minor": 4
}
