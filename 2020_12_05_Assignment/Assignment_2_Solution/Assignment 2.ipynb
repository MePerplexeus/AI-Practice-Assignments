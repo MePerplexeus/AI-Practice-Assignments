{
 "cells": [
  {
   "cell_type": "markdown",
   "metadata": {},
   "source": [
    "# Assignment 2"
   ]
  },
  {
   "cell_type": "markdown",
   "metadata": {},
   "source": [
    "---\n",
    "## a.\n",
    "Build a dictionary with abbreviations as keys and associated texts as values. Read the provided text file ***abbreviations.txt,*** each line of which contains an abbreviation and the associated text with it. (You should display the list lines to see what a string of this list looks like)."
   ]
  },
  {
   "cell_type": "code",
   "execution_count": 1,
   "metadata": {},
   "outputs": [
    {
     "name": "stdout",
     "output_type": "stream",
     "text": [
      "{'r': 'are', 'y': 'why', 'u': 'you', 'ttyl': 'talk to you later', 'l8': 'late', 'brb': 'be right back', 'lol': 'laughing out loud', 'bbl': 'be back later', 'tldr': \"too long; didn't read\", 'rofl': 'rolling on floor laughing', 'gtg': 'got to go', 'cya': 'see you', 'cuzz': 'because', 'bff': 'best friend forever', 'idk': \"I don't know\", 'sup': \"what's up?\", 'omg': 'oh my gosh', 'nbd': 'no big deal', 'tisnf': 'this is not fair', 'nw': 'no way!', 'rus': 'are you serious?', 'myob': 'mind your own business', 'njoy': 'enjoy', 'nter': 'enter', '1ce': 'once', 'aka': 'also known as', 'afk': 'away from keyboard', 'jk': 'just kidding', 'asap': 'as soon as possible', 'app': 'application', 'atm': 'at the moment', 'b4': 'before', 'fyi': 'for your information', 'bday': 'birthday', 'k': 'okay', 'msg': 'message', 'np': 'no problem', 'pic': 'picture', 'plz': 'please', 'sry': 'sorry', 'dunno': \"don't know\", 'wut': 'what', 'wuts': \"what's\"}\n"
     ]
    }
   ],
   "source": [
    "# Main Variable that will contain the list\n",
    "aDict = {}\n",
    "\n",
    "# Setup the file and read all the data from it, then save it to 'sfList'\n",
    "with open('abbreviations.txt', 'rt') as sf:\n",
    "    sfList = sf.readlines()\n",
    "    \n",
    "# Loop through sfList and finish setting up the aDict (Abbreviations Dictionary)\n",
    "for sfw in sfList:\n",
    "    i = sfList.index(sfw)\n",
    "    sfw = sfw.replace('\\n', '')\n",
    "    sfw = sfw.split(':')\n",
    "    aDict[sfw[0]] = sfw[1]\n",
    "    \n",
    "# Print the dictionary\n",
    "print(aDict)"
   ]
  },
  {
   "cell_type": "markdown",
   "metadata": {},
   "source": [
    "---\n",
    "## b.\n",
    "Translate a message.<br>\n",
    "Split the message into \"words\". If a \"word\" is in the dictionary, replace it by the associated text. Otherwise simply copy the \"word\" to the translation."
   ]
  },
  {
   "cell_type": "code",
   "execution_count": 3,
   "metadata": {},
   "outputs": [
    {
     "name": "stdout",
     "output_type": "stream",
     "text": [
      "Enter your Message: y r u l8\n",
      "Full Message: why are you late \n"
     ]
    }
   ],
   "source": [
    "# Get User's message which is to be converted into full form\n",
    "# userInput = 'y r u l8' # Test input string\n",
    "userInput = input('Enter your Message: ')\n",
    "\n",
    "# Initiate the Variable in which the full form of the message will be given as output\n",
    "message = ''\n",
    "\n",
    "# Check each word in the user's message as to if it is an abbreviation or not and append \n",
    "# the resulting word into the 'message' variable\n",
    "for word in userInput.split():\n",
    "    try:\n",
    "        message += aDict[word] + ' '\n",
    "    except:\n",
    "        message += word + ' '\n",
    "        \n",
    "# Finally print out the full form version of the message\n",
    "print(\"Full Message:\", message)\n",
    "        "
   ]
  },
  {
   "cell_type": "markdown",
   "metadata": {},
   "source": [
    "---\n",
    "# <center>Q.E.D.</center>"
   ]
  }
 ],
 "metadata": {
  "kernelspec": {
   "display_name": "Python 3",
   "language": "python",
   "name": "python3"
  },
  "language_info": {
   "codemirror_mode": {
    "name": "ipython",
    "version": 3
   },
   "file_extension": ".py",
   "mimetype": "text/x-python",
   "name": "python",
   "nbconvert_exporter": "python",
   "pygments_lexer": "ipython3",
   "version": "3.8.3"
  }
 },
 "nbformat": 4,
 "nbformat_minor": 4
}
